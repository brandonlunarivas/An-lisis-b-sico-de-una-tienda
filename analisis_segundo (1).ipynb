{
 "cells": [
  {
   "cell_type": "markdown",
   "metadata": {},
   "source": [
    "# Análisis Exploratorio de Datos (EDA) - Online Retail\n",
    "## Análisis completo de dataset de ventas retail"
   ]
  },
  {
   "cell_type": "markdown",
   "metadata": {},
   "source": [
    "## 1. Configuración y Carga de Datos"
   ]
  },
  {
   "cell_type": "code",
   "execution_count": null,
   "metadata": {},
   "outputs": [],
   "source": [
    "import pandas as pd\n",
    "import numpy as np\n",
    "import matplotlib.pyplot as plt\n",
    "import seaborn as sns\n",
    "import warnings\n",
    "from datetime import datetime\n",
    "\n",
    "warnings.filterwarnings('ignore')\n",
    "\n",
    "# Configuración de estilo\n",
    "plt.style.use('seaborn-v0_8')\n",
    "sns.set_palette(\"husl\")\n",
    "%matplotlib inline\n",
    "\n",
    "print(\"✅ Librerías importadas correctamente\")"
   ]
  },
  {
   "cell_type": "code",
   "execution_count": null,
   "metadata": {},
   "outputs": [],
   "source": [
    "# Cargar dataset de Excel\n",
    "try:\n",
    "    df = pd.read_excel('Online Retail.xlsx', engine='openpyxl')\n",
    "    print(\"✅ Dataset cargado exitosamente\")\n",
    "    print(f\"📊 Dimensiones: {df.shape[0]} filas, {df.shape[1]} columnas\")\n",
    "except FileNotFoundError:\n",
    "    print(\"❌ Error: Archivo 'Online Retail.xlsx' no encontrado\")\n",
    "    print(\"Asegúrate de que el archivo esté en la misma carpeta que este notebook\")"
   ]
  },
  {
   "cell_type": "markdown",
   "metadata": {},
   "source": [
    "## 2. Exploración Inicial y Limpieza"
   ]
  },
  {
   "cell_type": "code",
   "execution_count": null,
   "metadata": {},
   "outputs": [],
   "source": [
    "# Vista preliminar de los datos\n",
    "print(\"=== PRIMERAS FILAS DEL DATASET ===\")\n",
    "display(df.head(10))\n",
    "\n",
    "print(\"\\n=== INFORMACIÓN DE COLUMNAS ===\")\n",
    "print(df.info())\n",
    "\n",
    "print(\"\\n=== ESTADÍSTICAS DESCRIPTIVAS ===\")\n",
    "display(df.describe())\n",
    "\n",
    "print(\"\\n=== VALORES NULOS POR COLUMNA ===\")\n",
    "null_counts = df.isnull().sum()\n",
    "null_pct = (df.isnull().sum() / len(df)) * 100\n",
    "null_summary = pd.DataFrame({'Valores Nulos': null_counts, 'Porcentaje': null_pct.round(2)})\n",
    "display(null_summary[null_summary['Valores Nulos'] > 0])"
   ]
  },
  {
   "cell_type": "code",
   "execution_count": null,
   "metadata": {},
   "outputs": [],
   "source": [
    "# Limpieza de datos\n",
    "print(\"=== LIMPIEZA DE DATOS ===\")\n",
    "\n",
    "# Crear copia para trabajar\n",
    "df_clean = df.copy()\n",
    "\n",
    "# Eliminar filas con CustomerID nulo (importante para análisis de clientes)\n",
    "initial_rows = len(df_clean)\n",
    "df_clean = df_clean.dropna(subset=['CustomerID'])\n",
    "print(f\"📝 Filas eliminadas por CustomerID nulo: {initial_rows - len(df_clean)}\")\n",
    "\n",
    "# Convertir CustomerID a entero\n",
    "df_clean['CustomerID'] = df_clean['CustomerID'].astype(int)\n",
    "\n",
    "# Crear columna de monto total\n",
    "df_clean['TotalAmount'] = df_clean['Quantity'] * df_clean['UnitPrice']\n",
    "\n",
    "# Eliminar transacciones con cantidad o precio negativo/cero\n",
    "df_clean = df_clean[(df_clean['Quantity'] > 0) & (df_clean['UnitPrice'] > 0)]\n",
    "\n",
    "print(f\"📊 Dataset final: {len(df_clean)} filas, {df_clean.shape[1]} columnas\")"
   ]
  },
  {
   "cell_type": "markdown",
   "metadata": {},
   "source": [
    "## 3. Análisis de Transacciones y Ventas"
   ]
  },
  {
   "cell_type": "code",
   "execution_count": null,
   "metadata": {},
   "outputs": [],
   "source": [
    "# Análisis de transacciones por país\n",
    "print(\"=== DISTRIBUCIÓN DE VENTAS POR PAÍS ===\")\n",
    "\n",
    "country_sales = df_clean.groupby('Country').agg({\n",
    "    'InvoiceNo': 'nunique',\n",
    "    'TotalAmount': 'sum',\n",
    "    'CustomerID': 'nunique'\n",
    "}).rename(columns={\n",
    "    'InvoiceNo': 'TotalTransacciones',\n",
    "    'TotalAmount': 'VentasTotales',\n",
    "    'CustomerID': 'ClientesUnicos'\n",
    "}).sort_values('VentasTotales', ascending=False)\n",
    "\n",
    "display(country_sales.head(10))\n",
    "\n",
    "# Gráfico de ventas por país (top 15)\n",
    "plt.figure(figsize=(12, 8))\n",
    "top_countries = country_sales.head(15)\n",
    "plt.barh(top_countries.index, top_countries['VentasTotales'], color='skyblue')\n",
    "plt.xlabel('Ventas Totales (£)')\n",
    "plt.title('Top 15 Países por Ventas Totales')\n",
    "plt.gca().invert_yaxis()\n",
    "plt.tight_layout()\n",
    "plt.show()"
   ]
  },
  {
   "cell_type": "code",
   "execution_count": null,
   "metadata": {},
   "outputs": [],
   "source": [
    "# Análisis temporal de ventas\n",
    "print(\"=== ANÁLISIS TEMPORAL DE VENTAS ===\")\n",
    "\n",
    "# Convertir a datetime y extraer componentes temporales\n",
    "df_clean['InvoiceDate'] = pd.to_datetime(df_clean['InvoiceDate'])\n",
    "df_clean['Year'] = df_clean['InvoiceDate'].dt.year\n",
    "df_clean['Month'] = df_clean['InvoiceDate'].dt.month\n",
    "df_clean['Day'] = df_clean['InvoiceDate'].dt.day\n",
    "df_clean['DayOfWeek'] = df_clean['InvoiceDate'].dt.day_name()\n",
    "df_clean['Hour'] = df_clean['InvoiceDate'].dt.hour\n",
    "\n",
    "# Ventas mensuales\n",
    "monthly_sales = df_clean.groupby(['Year', 'Month']).agg({\n",
    "    'TotalAmount': 'sum',\n",
    "    'InvoiceNo': 'nunique',\n",
    "    'CustomerID': 'nunique'\n",
    "}).rename(columns={\n",
    "    'TotalAmount': 'VentasMensuales',\n",
    "    'InvoiceNo': 'TransaccionesMensuales',\n",
    "    'CustomerID': 'ClientesMensuales'\n",
    })\n",
    "\n",
    "print(\"📈 Ventas Mensuales:\")\n",
    "display(monthly_sales)"
   ]
  },
  {
   "cell_type": "code",
   "execution_count": null,
   "metadata": {},
   "outputs": [],
   "source": [
    "# Gráfico de ventas mensuales\n",
    "plt.figure(figsize=(14, 8))\n",
    "\n",
    "monthly_sales['VentasMensuales'].plot(kind='line', marker='o', color='blue', linewidth=2)\n",
    "plt.title('Evolución de Ventas Mensuales', fontsize=16)\n",
    "plt.xlabel('Mes-Año')\n",
    "plt.ylabel('Ventas Totales (£)')\n",
    "plt.xticks(rotation=45)\n",
    "plt.grid(True, alpha=0.3)\n",
    "plt.tight_layout()\n",
    "plt.show()"
   ]
  },
  {
   "cell_type": "markdown",
   "metadata": {},
   "source": [
    "## 4. Análisis de Productos"
   ]
  },
  {
   "cell_type": "code",
   "execution_count": null,
   "metadata": {},
   "outputs": [],
   "source": [
    "# Análisis de productos más vendidos\n",
    "print(\"=== PRODUCTOS MÁS VENDIDOS ===\")\n",
    "\n",
    "top_products = df_clean.groupby(['StockCode', 'Description']).agg({\n",
    "    'Quantity': 'sum',\n",
    "    'TotalAmount': 'sum',\n",
    "    'InvoiceNo': 'nunique'\n",
    "}).rename(columns={\n",
    "    'Quantity': 'TotalUnidades',\n",
    "    'TotalAmount': 'IngresosTotales',\n",
    "    'InvoiceNo': 'TotalTransacciones'\n",
    }).sort_values('IngresosTotales', ascending=False)\n",
    "\n",
    "print(\"🏆 Top 10 Productos por Ingresos:\")\n",
    "display(top_products.head(10))\n",
    "\n",
    "print(\"\\n📦 Top 10 Productos por Cantidad Vendida:\")\n",
    "display(top_products.sort_values('TotalUnidades', ascending=False).head(10))"
   ]
  },
  {
   "cell_type": "code",
   "execution_count": null,
   "metadata": {},
   "outputs": [],
   "source": [
    "# Gráfico de productos top\n",
    "fig, (ax1, ax2) = plt.subplots(1, 2, figsize=(16, 6))\n",
    "\n",
    "# Top productos por ingresos\n",
    "top10_revenue = top_products.head(10)\n",
    "ax1.barh(range(len(top10_revenue)), top10_revenue['IngresosTotales'], color='lightgreen')\n",
    "ax1.set_yticks(range(len(top10_revenue)))\n",
    "ax1.set_yticklabels([desc[:30] + '...' if len(desc) > 30 else desc for desc in top10_revenue.index.get_level_values(1)])\n",
    "ax1.set_xlabel('Ingresos Totales (£)')\n",
    "ax1.set_title('Top 10 Productos por Ingresos')\n",
    "ax1.invert_yaxis()\n",
    "\n",
    "# Top productos por cantidad\n",
    "top10_quantity = top_products.sort_values('TotalUnidades', ascending=False).head(10)\n",
    "ax2.barh(range(len(top10_quantity)), top10_quantity['TotalUnidades'], color='lightcoral')\n",
    "ax2.set_yticks(range(len(top10_quantity)))\n",
    "ax2.set_yticklabels([desc[:30] + '...' if len(desc) > 30 else desc for desc in top10_quantity.index.get_level_values(1)])\n",
    "ax2.set_xlabel('Unidades Vendidas')\n",
    "ax2.set_title('Top 10 Productos por Cantidad')\n",
    "ax2.invert_yaxis()\n",
    "\n",
    "plt.tight_layout()\n",
    "plt.show()"
   ]
  },
  {
   "cell_type": "markdown",
   "metadata": {},
   "source": [
    "## 5. Análisis de Clientes"
   ]
  },
  {
   "cell_type": "code",
   "execution_count": null,
   "metadata": {},
   "outputs": [],
   "source": [
    "# Análisis de comportamiento de clientes\n",
    "print(\"=== ANÁLISIS DE CLIENTES ===\")\n",
    "\n",
    "customer_analysis = df_clean.groupby('CustomerID').agg({\n",
    "    'InvoiceNo': 'nunique',\n",
    "    'TotalAmount': 'sum',\n",
    "    'Quantity': 'sum',\n",
    "    'InvoiceDate': ['min', 'max']\n",
    }).round(2)\n",
    "\n",
    "# Aplanar columnas multi-index\n",
    "customer_analysis.columns = ['TotalTransacciones', 'GastoTotal', 'TotalUnidades', 'PrimeraCompra', 'UltimaCompra']\n",
    "\n",
    "# Calcular días desde última compra\n",
    "last_date = df_clean['InvoiceDate'].max()\n",
    "customer_analysis['DiasDesdeUltimaCompra'] = (last_date - customer_analysis['UltimaCompra']).dt.days\n",
    "\n",
    "print(\"👥 Resumen de Comportamiento de Clientes:\")\n",
    "display(customer_analysis.describe())\n",
    "\n",
    "print(\"\\n🏆 Top 10 Clientes por Gasto:\")\n",
    "display(customer_analysis.sort_values('GastoTotal', ascending=False).head(10))"
   ]
  },
  {
   "cell_type": "code",
   "execution_count": null,
   "metadata": {},
   "outputs": [],
   "source": [
    "# Segmentación de clientes por valor\n",
    "print(\"=== SEGMENTACIÓN DE CLIENTES ===\")\n",
    "\n",
    "# Crear segmentos basados en percentiles de gasto\n",
    "customer_analysis['Segmento'] = pd.qcut(customer_analysis['GastoTotal'], \n",
    "                                       q=4, \n",
    "                                       labels=['Bajo', 'Medio-Bajo', 'Medio-Alto', 'Alto'])\n",
    "\n",
    "segment_summary = customer_analysis.groupby('Segmento').agg({\n",
    "    'CustomerID': 'count',\n",
    "    'GastoTotal': ['mean', 'sum'],\n",
    "    'TotalTransacciones': 'mean',\n",
    "    'DiasDesdeUltimaCompra': 'mean'\n",
    }).round(2)\n",
    "\n",
    "segment_summary.columns = ['NumClientes', 'GastoPromedio', 'GastoTotalSegmento', 'TransaccionesPromedio', 'DiasInactivosPromedio']\n",
    "display(segment_summary)"
   ]
  },
  {
   "cell_type": "markdown",
   "metadata": {},
   "source": [
    "## 6. Análisis de Canasta de Compra"
   ]
  },
  {
   "cell_type": "code",
   "execution_count": null,
   "metadata": {},
   "outputs": [],
   "source": [
    "# Análisis de transacciones individuales\n",
    "print(\"=== ANÁLISIS DE TRANSACCIONES ===\")\n",
    "\n",
    "transaction_analysis = df_clean.groupby('InvoiceNo').agg({\n",
    "    'CustomerID': 'first',\n",
    "    'TotalAmount': 'sum',\n",
    "    'Quantity': 'sum',\n",
    "    'StockCode': 'count',\n",
    "    'Country': 'first'\n",
    }).rename(columns={\n",
    "    'StockCode': 'NumProductos',\n",
    "    'TotalAmount': 'MontoTotal'\n",
    })\n",
    "\n",
    "print(\"📋 Estadísticas de Transacciones:\")\n",
    "display(transaction_analysis.describe())\n",
    "\n",
    "# Distribución del monto de transacciones\n",
    "plt.figure(figsize=(12, 6))\n",
    "\n",
    "plt.subplot(1, 2, 1)\n",
    "transaction_analysis['MontoTotal'].hist(bins=50, alpha=0.7, color='purple', edgecolor='black')\n",
    "plt.xlabel('Monto de Transacción (£)')\n",
    "plt.ylabel('Frecuencia')\n",
    "plt.title('Distribución de Montos de Transacción')\n",
    "\n",
    "plt.subplot(1, 2, 2)\n",
    "transaction_analysis['NumProductos'].hist(bins=30, alpha=0.7, color='orange', edgecolor='black')\n",
    "plt.xlabel('Número de Productos por Transacción')\n",
    "plt.ylabel('Frecuencia')\n",
    "plt.title('Distribución de Productos por Transacción')\n",
    "\n",
    "plt.tight_layout()\n",
    "plt.show()"
   ]
  },
  {
   "cell_type": "markdown",
   "metadata": {},
   "source": [
    "## 7. Análisis de Tendencias Temporales"
   ]
  },
  {
   "cell_type": "code",
   "execution_count": null,
   "metadata": {},
   "outputs": [],
   "source": [
    "# Análisis por día de la semana y hora\n",
    "print(\"=== TENDENCIAS POR DÍA Y HORA ===\")\n",
    "\n",
    "# Ventas por día de la semana\n",
    "day_order = ['Monday', 'Tuesday', 'Wednesday', 'Thursday', 'Friday', 'Saturday', 'Sunday']\n",
    "sales_by_day = df_clean.groupby('DayOfWeek').agg({\n",
    "    'TotalAmount': 'sum',\n",
    "    'InvoiceNo': 'nunique'\n",
    }).reindex(day_order)\n",
    "\n",
    "# Ventas por hora\n",
    "sales_by_hour = df_clean.groupby('Hour').agg({\n",
    "    'TotalAmount': 'sum',\n",
    "    'InvoiceNo': 'nunique'\n",
    })\n",
    "\n",
    "fig, (ax1, ax2) = plt.subplots(1, 2, figsize=(16, 6))\n",
    "\n",
    "# Gráfico por día de la semana\n",
    "ax1.plot(sales_by_day.index, sales_by_day['TotalAmount'], marker='o', linewidth=2, color='green')\n",
    "ax1.set_title('Ventas por Día de la Semana', fontsize=14)\n",
    "ax1.set_xlabel('Día de la Semana')\n",
    "ax1.set_ylabel('Ventas Totales (£)')\n",
    "ax1.tick_params(axis='x', rotation=45)\n",
    "ax1.grid(True, alpha=0.3)\n",
    "\n",
    "# Gráfico por hora del día\n",
    "ax2.plot(sales_by_hour.index, sales_by_hour['TotalAmount'], marker='s', linewidth=2, color='red')\n",
    "ax2.set_title('Ventas por Hora del Día', fontsize=14)\n",
    "ax2.set_xlabel('Hora del Día')\n",
    "ax2.set_ylabel('Ventas Totales (£)')\n",
    "ax2.grid(True, alpha=0.3)\n",
    "\n",
    "plt.tight_layout()\n",
    "plt.show()"
   ]
  },
  {
   "cell_type": "markdown",
   "metadata": {},
   "source": [
    "## 8. Análisis de Valores Atípicos"
   ]
  },
  {
   "cell_type": "code",
   "execution_count": null,
   "metadata": {},
   "outputs": [],
   "source": [
    "# Detección de valores atípicos\n",
    "print(\"=== ANÁLISIS DE VALORES ATÍPICOS ===\")\n",
    "\n",
    "fig, axes = plt.subplots(2, 2, figsize=(15, 10))\n",
    "\n",
    # Boxplot de Quantity\n",
    "df_clean['Quantity'].plot(kind='box', ax=axes[0,0], vert=False)\n",
    "axes[0,0].set_title('Distribución de Cantidades')\n",
    "\n",
    "# Boxplot de UnitPrice\n",
    "df_clean['UnitPrice'].plot(kind='box', ax=axes[0,1], vert=False)\n",
    "axes[0,1].set_title('Distribución de Precios Unitarios')\n",
    "\n",
    "# Boxplot de TotalAmount\n",
    "df_clean['TotalAmount'].plot(kind='box', ax=axes[1,0], vert=False)\n",
    "axes[1,0].set_title('Distribución de Montos Totales')\n",
    "\n",
    "# Scatter plot Quantity vs UnitPrice\n",
    "axes[1,1].scatter(df_clean['Quantity'], df_clean['UnitPrice'], alpha=0.5)\n",
    "axes[1,1].set_xlabel('Cantidad')\n",
    "axes[1,1].set_ylabel('Precio Unitario')\n",
    "axes[1,1].set_title('Relación Cantidad vs Precio')\n",
    "\n",
    "plt.tight_layout()\n",
    "plt.show()\n",
    "\n",
    "# Identificar transacciones extremas\n",
    "high_value_transactions = df_clean[df_clean['TotalAmount'] > df_clean['TotalAmount'].quantile(0.99)]\n",
    "print(f\"🔍 Transacciones en el percentil 99 (más de £{df_clean['TotalAmount'].quantile(0.99):.2f}): {len(high_value_transactions)}\")"
   ]
  },
  {
   "cell_type": "markdown",
   "metadata": {},
   "source": [
    "## 9. Resumen Ejecutivo e Insights"
   ]
  },
  {
   "cell_type": "code",
   "execution_count": null,
   "metadata": {},
   "outputs": [],
   "source": [
    "print(\"=\" * 70)\n",
    "print(\"RESUMEN EJECUTIVO - ONLINE RETAIL ANALYSIS\")\n",
    "print(\"=\" * 70)\n",
    "\n",
    "# Métricas clave\n",
    "total_revenue = df_clean['TotalAmount'].sum()\n",
    "avg_transaction_value = transaction_analysis['MontoTotal'].mean()\n",
    "unique_customers = df_clean['CustomerID'].nunique()\n",
    "unique_products = df_clean['StockCode'].nunique()\n",
    "unique_countries = df_clean['Country'].nunique()\n",
    "\n",
    "print(f\"\\n📊 MÉTRICAS CLAVE:\")\n",
    "print(f\"   • Ingresos Totales: £{total_revenue:,.2f}\")\n",
    "print(f\"   • Clientes Únicos: {unique_customers:,}\")\n",
    "print(f\"   • Productos Únicos: {unique_products:,}\")\n",
    "print(f\"   • Países: {unique_countries}\")\n",
    "print(f\"   • Valor Promedio de Transacción: £{avg_transaction_value:.2f}\")\n",
    "\n",
    "print(f\"\\n🏆 TOP PERFORMERS:\")\n",
    "print(f\"   • País líder: {country_sales.index[0]} (£{country_sales.iloc[0]['VentasTotales']:,.2f})\")\n",
    "print(f\"   • Cliente top: ID {customer_analysis.index[0]} (£{customer_analysis.iloc[0]['GastoTotal']:,.2f})\")\n",
    "print(f\"   • Producto top: {top_products.index[0][1][:50]}...\")\n",
    "\n",
    "print(f\"\\n📈 PATRONES TEMPORALES:\")\n",
    "best_day = sales_by_day['TotalAmount'].idxmax()\n",
    "best_hour = sales_by_hour['TotalAmount'].idxmax()\n",
    "print(f\"   • Mejor día de ventas: {best_day}\")\n",
    "print(f\"   • Mejor hora de ventas: {best_hour}:00\")\n",
    "\n",
    "print(f\"\\n💡 INSIGHTS ESTRATÉGICOS:\")\n",
    "print(f\"   1. {segment_summary.loc['Alto', 'NumClientes']} clientes premium generan {segment_summary.loc['Alto', 'GastoTotalSegmento']/total_revenue*100:.1f}% de ingresos\")\n",
    "print(f\"   2. {len(high_value_transactions)} transacciones representan ventas excepcionales\")\n",
    "print(f\"   3. Oportunidad en {country_sales.index[1]} con £{country_sales.iloc[1]['VentasTotales']:,.2f} en ventas\")\n",
    "\n",
    "print(\"\\n\" + \"=\" * 70)"
   ]
  },
  {
   "cell_type": "markdown",
   "metadata": {},
   "source": [
    "## 10. Exportar Resultados"
   ]
  },
  {
   "cell_type": "code",
   "execution_count": null,
   "metadata": {},
   "outputs": [],
   "source": [
    "# Guardar dataset limpio y resúmenes\n",
    "df_clean.to_csv('online_retail_cleaned.csv', index=False)\n",
    "customer_analysis.to_csv('customer_analysis.csv')\n",
    "top_products.head(20).to_csv('top_products.csv')\n",
    "\n",
    "print(\"💾 Archivos exportados:\")\n",
    "print(\"   • online_retail_cleaned.csv - Dataset limpio\")\n",
    "print(\"   • customer_analysis.csv - Análisis de clientes\")\n",
    "print(\"   • top_products.csv - Top 20 productos\")\n",
    "\n",
    "print(\"\\n🎉 ANÁLISIS EXPLORATORIO COMPLETADO\")"
   ]
  }
 ],
 "metadata": {
  "kernelspec": {
   "display_name": "Python 3",
   "language": "python",
   "name": "python3"
  },
  "language_info": {
   "codemirror_mode": {
    "name": "ipython",
    "version": 3
   },
   "file_extension": ".py",
   "mimetype": "text/x-python",
   "name": "python",
   "nbconvert_exporter": "python",
   "pygments_lexer": "ipython3",
   "version": "3.8.5"
  }
 },
 "nbformat": 4,
 "nbformat_minor": 4
}